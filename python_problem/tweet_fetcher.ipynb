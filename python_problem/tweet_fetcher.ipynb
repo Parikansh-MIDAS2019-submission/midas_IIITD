{
 "cells": [
  {
   "cell_type": "markdown",
   "metadata": {},
   "source": [
    "## Tweet-Fetcher in Python (using tweepy)"
   ]
  },
  {
   "cell_type": "code",
   "execution_count": 2,
   "metadata": {
    "collapsed": true
   },
   "outputs": [],
   "source": [
    "#importing the required libraries\n",
    "import tweepy\n",
    "import csv\n",
    "import json"
   ]
  },
  {
   "cell_type": "code",
   "execution_count": 4,
   "metadata": {
    "collapsed": true
   },
   "outputs": [],
   "source": [
    "#Twitter API credentials\n",
    "#For generating these, you must 'Create a Twitter app' and then generate your own unique credentials \n",
    "consumer_key = \"\"\n",
    "consumer_secret = \"\"\n",
    "access_key = \"\"\n",
    "access_secret = \"\""
   ]
  },
  {
   "cell_type": "markdown",
   "metadata": {},
   "source": [
    "### Now we define a function that accepts the username and fetches most recent tweets of that user"
   ]
  },
  {
   "cell_type": "code",
   "execution_count": 5,
   "metadata": {
    "collapsed": true
   },
   "outputs": [],
   "source": [
    "def get_tweets(username):\n",
    "    auth = tweepy.OAuthHandler(consumer_key, consumer_secret)\n",
    "    auth.set_access_token(access_key, access_secret)\n",
    "    api = tweepy.API(auth)\n",
    "    \n",
    "    alltweets = []\n",
    "    new_tweets = api.user_timeline(screen_name = username,count=100)\n",
    "    alltweets.extend(new_tweets)\n",
    "    \n",
    "    with open('%s_tweets.json' % username, 'w', encoding ='utf8') as f:\n",
    "        for status in alltweets:\n",
    "            f.write('\\n**newTweet**\\n')\n",
    "            json.dump(status._json,f, ensure_ascii=False)\n",
    "    \n",
    "    return alltweets"
   ]
  },
  {
   "cell_type": "markdown",
   "metadata": {},
   "source": [
    "### A function to read the alltweets list and write out relevant data in a csv file"
   ]
  },
  {
   "cell_type": "code",
   "execution_count": 7,
   "metadata": {
    "collapsed": true
   },
   "outputs": [],
   "source": [
    "def writeInfo(username, alltweets):\n",
    "    outtweets = []\n",
    "    for tweet in alltweets:\n",
    "        if 'media' in tweet.entities:\n",
    "            curr = [tweet.text.encode(\"utf-8\"), tweet.created_at, tweet.favorite_count, tweet.retweet_count, len(tweet.entities['media'])]\n",
    "        else:\n",
    "            curr = [tweet.text.encode(\"utf-8\"), tweet.created_at, tweet.favorite_count, tweet.retweet_count, 0]\n",
    "        outtweets.append(curr)\n",
    "    \n",
    "    with open('%s_tweets.csv' % username, 'w') as f:\n",
    "        writer = csv.writer(f)\n",
    "        writer.writerow([\"Text\",\"Created_At\",\"Fav_Count\", \"Retweet_Count\", \"Number_Of_Images\"])\n",
    "        writer.writerows(outtweets)"
   ]
  },
  {
   "cell_type": "code",
   "execution_count": 10,
   "metadata": {
    "collapsed": false
   },
   "outputs": [
    {
     "data": {
      "text/plain": [
       "\"\\ntweetData = get_tweets('midasIIITD')\\nwriteInfo('midasIIITD', tweetData)\\n\""
      ]
     },
     "execution_count": 10,
     "metadata": {},
     "output_type": "execute_result"
    }
   ],
   "source": [
    "'''\n",
    "tweetData = get_tweets('midasIIITD')\n",
    "writeInfo('midasIIITD', tweetData)\n",
    "'''"
   ]
  },
  {
   "cell_type": "code",
   "execution_count": null,
   "metadata": {
    "collapsed": true
   },
   "outputs": [],
   "source": []
  }
 ],
 "metadata": {
  "kernelspec": {
   "display_name": "Python 3",
   "language": "python",
   "name": "python3"
  },
  "language_info": {
   "codemirror_mode": {
    "name": "ipython",
    "version": 3
   },
   "file_extension": ".py",
   "mimetype": "text/x-python",
   "name": "python",
   "nbconvert_exporter": "python",
   "pygments_lexer": "ipython3",
   "version": "3.6.0"
  }
 },
 "nbformat": 4,
 "nbformat_minor": 2
}
