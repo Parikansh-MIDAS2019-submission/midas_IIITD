{
 "cells": [
  {
   "cell_type": "code",
   "execution_count": 20,
   "metadata": {
    "collapsed": true
   },
   "outputs": [],
   "source": [
    "import pandas as pd\n",
    "import numpy as np\n",
    "from nltk.corpus import stopwords\n",
    "from collections import Counter"
   ]
  },
  {
   "cell_type": "code",
   "execution_count": 21,
   "metadata": {
    "collapsed": false
   },
   "outputs": [],
   "source": [
    "data=pd.read_csv('C:/Users/ParikanshAndAtikant/Desktop/WEB DEV/midasIIITD/NLP_Problem/v1.4_training.csv')"
   ]
  },
  {
   "cell_type": "code",
   "execution_count": 22,
   "metadata": {
    "collapsed": false
   },
   "outputs": [
    {
     "data": {
      "text/html": [
       "<div>\n",
       "<table border=\"1\" class=\"dataframe\">\n",
       "  <thead>\n",
       "    <tr style=\"text-align: right;\">\n",
       "      <th></th>\n",
       "      <th>id</th>\n",
       "      <th>sentence</th>\n",
       "      <th>label</th>\n",
       "    </tr>\n",
       "  </thead>\n",
       "  <tbody>\n",
       "    <tr>\n",
       "      <th>0</th>\n",
       "      <td>663_3</td>\n",
       "      <td>\"Please enable removing language code from the...</td>\n",
       "      <td>1</td>\n",
       "    </tr>\n",
       "    <tr>\n",
       "      <th>1</th>\n",
       "      <td>663_4</td>\n",
       "      <td>\"Note: in your .csproj file, there is a Suppor...</td>\n",
       "      <td>0</td>\n",
       "    </tr>\n",
       "    <tr>\n",
       "      <th>2</th>\n",
       "      <td>664_1</td>\n",
       "      <td>\"Wich means the new version not fully replaced...</td>\n",
       "      <td>0</td>\n",
       "    </tr>\n",
       "    <tr>\n",
       "      <th>3</th>\n",
       "      <td>664_2</td>\n",
       "      <td>\"Some of my users will still receive the old x...</td>\n",
       "      <td>0</td>\n",
       "    </tr>\n",
       "    <tr>\n",
       "      <th>4</th>\n",
       "      <td>664_3</td>\n",
       "      <td>\"The store randomly gives the old xap or the n...</td>\n",
       "      <td>0</td>\n",
       "    </tr>\n",
       "  </tbody>\n",
       "</table>\n",
       "</div>"
      ],
      "text/plain": [
       "      id                                           sentence  label\n",
       "0  663_3  \"Please enable removing language code from the...      1\n",
       "1  663_4  \"Note: in your .csproj file, there is a Suppor...      0\n",
       "2  664_1  \"Wich means the new version not fully replaced...      0\n",
       "3  664_2  \"Some of my users will still receive the old x...      0\n",
       "4  664_3  \"The store randomly gives the old xap or the n...      0"
      ]
     },
     "execution_count": 22,
     "metadata": {},
     "output_type": "execute_result"
    }
   ],
   "source": [
    "data.head()"
   ]
  },
  {
   "cell_type": "code",
   "execution_count": 23,
   "metadata": {
    "collapsed": false
   },
   "outputs": [
    {
     "data": {
      "text/plain": [
       "151698"
      ]
     },
     "execution_count": 23,
     "metadata": {},
     "output_type": "execute_result"
    }
   ],
   "source": [
    "all_words = \" \".join(data['sentence']).split()\n",
    "len(all_words)"
   ]
  },
  {
   "cell_type": "code",
   "execution_count": 25,
   "metadata": {
    "collapsed": false
   },
   "outputs": [
    {
     "data": {
      "text/plain": [
       "93264"
      ]
     },
     "execution_count": 25,
     "metadata": {},
     "output_type": "execute_result"
    }
   ],
   "source": [
    "stop_words = set(stopwords.words('english'))\n",
    "filtered_words = [w for w in all_words if not w in stop_words]\n",
    "len(filtered_words)"
   ]
  },
  {
   "cell_type": "code",
   "execution_count": 32,
   "metadata": {
    "collapsed": false
   },
   "outputs": [
    {
     "data": {
      "text/plain": [
       "['I',\n",
       " 'app',\n",
       " 'would',\n",
       " '\"I',\n",
       " 'Windows',\n",
       " 'like',\n",
       " 'apps',\n",
       " 'use',\n",
       " '\"The',\n",
       " 'user',\n",
       " 'could',\n",
       " '\"It',\n",
       " '\"This',\n",
       " 'using',\n",
       " 'add',\n",
       " 'new',\n",
       " 'phone',\n",
       " 'way',\n",
       " 'able',\n",
       " 'one',\n",
       " 'make',\n",
       " 'support',\n",
       " '-',\n",
       " 'get',\n",
       " 'want',\n",
       " 'need',\n",
       " 'allow',\n",
       " 'UWP',\n",
       " '\"Please',\n",
       " 'control',\n",
       " 'application',\n",
       " 'also',\n",
       " 'see',\n",
       " 'Phone',\n",
       " 'create',\n",
       " 'time',\n",
       " 'access',\n",
       " 'windows',\n",
       " 'API',\n",
       " 'data',\n",
       " 'developers',\n",
       " 'work',\n",
       " 'Microsoft',\n",
       " 'users',\n",
       " 'more\"',\n",
       " 'developer',\n",
       " 'set',\n",
       " '10',\n",
       " 'file',\n",
       " 'option',\n",
       " 'possible',\n",
       " '\"If',\n",
       " 'great',\n",
       " 'Buffering',\n",
       " '\"',\n",
       " 'code',\n",
       " 'without',\n",
       " '\"In',\n",
       " '\"When',\n",
       " 'screen',\n",
       " 'even',\n",
       " 'really',\n",
       " 'store',\n",
       " 'open',\n",
       " 'search',\n",
       " 'used',\n",
       " 'provide',\n",
       " 'The',\n",
       " 'button',\n",
       " 'many',\n",
       " 'think',\n",
       " \"can't\",\n",
       " 'know',\n",
       " 'page',\n",
       " 'text',\n",
       " 'still',\n",
       " 'currently',\n",
       " '\"There',\n",
       " 'different',\n",
       " 'problem',\n",
       " 'good',\n",
       " 'example',\n",
       " 'version',\n",
       " 'feature',\n",
       " 'nice',\n",
       " 'Store',\n",
       " 'device',\n",
       " 'available',\n",
       " 'find',\n",
       " 'us',\n",
       " 'lot',\n",
       " 'already',\n",
       " 'show',\n",
       " 'change',\n",
       " '\"We',\n",
       " 'via',\n",
       " 'This',\n",
       " 'list',\n",
       " 'cannot',\n",
       " 'back',\n",
       " 'something',\n",
       " 'ability',\n",
       " 'It',\n",
       " 'files',\n",
       " 'every',\n",
       " 'Feedly',\n",
       " '\"Currently',\n",
       " 'background',\n",
       " '\"But',\n",
       " 'video',\n",
       " 'please',\n",
       " 'much',\n",
       " 'issue',\n",
       " 'instead',\n",
       " 'account',\n",
       " 'another',\n",
       " \"I'm\",\n",
       " '\"For',\n",
       " 'better',\n",
       " 'app.\"',\n",
       " 'update',\n",
       " 'call',\n",
       " 'working',\n",
       " 'applications',\n",
       " 'right',\n",
       " 'people',\n",
       " 'web',\n",
       " 'desktop',\n",
       " 'App',\n",
       " 'Android',\n",
       " 'current',\n",
       " '\"So',\n",
       " 'number',\n",
       " 'content',\n",
       " 'first',\n",
       " 'click',\n",
       " 'useful',\n",
       " 'works',\n",
       " 'property',\n",
       " 'read',\n",
       " 'XAML',\n",
       " 'two',\n",
       " 'run',\n",
       " '8.1',\n",
       " 'devices',\n",
       " 'found',\n",
       " 'system',\n",
       " 'feedly',\n",
       " 'seems',\n",
       " 'UI']"
      ]
     },
     "execution_count": 32,
     "metadata": {},
     "output_type": "execute_result"
    }
   ],
   "source": [
    "important_words = Counter(filtered_words).most_common(150)\n",
    "important_words = [x[0] for x in important_words]\n",
    "important_words"
   ]
  },
  {
   "cell_type": "code",
   "execution_count": 33,
   "metadata": {
    "collapsed": false
   },
   "outputs": [
    {
     "data": {
      "text/html": [
       "<div>\n",
       "<table border=\"1\" class=\"dataframe\">\n",
       "  <thead>\n",
       "    <tr style=\"text-align: right;\">\n",
       "      <th></th>\n",
       "      <th>id</th>\n",
       "      <th>sentence</th>\n",
       "      <th>label</th>\n",
       "    </tr>\n",
       "  </thead>\n",
       "  <tbody>\n",
       "    <tr>\n",
       "      <th>0</th>\n",
       "      <td>13101</td>\n",
       "      <td>\"I'm not asking Microsoft to Gives permission ...</td>\n",
       "      <td>X</td>\n",
       "    </tr>\n",
       "    <tr>\n",
       "      <th>1</th>\n",
       "      <td>13121</td>\n",
       "      <td>\"somewhere between Android and iPhone.\"</td>\n",
       "      <td>X</td>\n",
       "    </tr>\n",
       "    <tr>\n",
       "      <th>2</th>\n",
       "      <td>13131</td>\n",
       "      <td>\"And in the Windows Store you can flag the App...</td>\n",
       "      <td>X</td>\n",
       "    </tr>\n",
       "    <tr>\n",
       "      <th>3</th>\n",
       "      <td>13132</td>\n",
       "      <td>\"Many thanks Sameh Hi, As we know, there is a ...</td>\n",
       "      <td>X</td>\n",
       "    </tr>\n",
       "    <tr>\n",
       "      <th>4</th>\n",
       "      <td>13133</td>\n",
       "      <td>\"The idea is that we can develop a regular app...</td>\n",
       "      <td>X</td>\n",
       "    </tr>\n",
       "  </tbody>\n",
       "</table>\n",
       "</div>"
      ],
      "text/plain": [
       "      id                                           sentence label\n",
       "0  13101  \"I'm not asking Microsoft to Gives permission ...     X\n",
       "1  13121            \"somewhere between Android and iPhone.\"     X\n",
       "2  13131  \"And in the Windows Store you can flag the App...     X\n",
       "3  13132  \"Many thanks Sameh Hi, As we know, there is a ...     X\n",
       "4  13133  \"The idea is that we can develop a regular app...     X"
      ]
     },
     "execution_count": 33,
     "metadata": {},
     "output_type": "execute_result"
    }
   ],
   "source": [
    "test_data = pd.read_csv('C:/Users/ParikanshAndAtikant/Desktop/WEB DEV/midasIIITD/NLP_Problem/unlabelledTrainData.csv')\n",
    "test_data_labelled = pd.read_csv('C:/Users/ParikanshAndAtikant/Desktop/WEB DEV/midasIIITD/NLP_Problem/labelledTrainData.csv')\n",
    "test_data.head()"
   ]
  },
  {
   "cell_type": "code",
   "execution_count": 34,
   "metadata": {
    "collapsed": false
   },
   "outputs": [
    {
     "data": {
      "text/html": [
       "<div>\n",
       "<table border=\"1\" class=\"dataframe\">\n",
       "  <thead>\n",
       "    <tr style=\"text-align: right;\">\n",
       "      <th></th>\n",
       "      <th>id</th>\n",
       "      <th>sentence</th>\n",
       "      <th>label</th>\n",
       "    </tr>\n",
       "  </thead>\n",
       "  <tbody>\n",
       "    <tr>\n",
       "      <th>0</th>\n",
       "      <td>13101</td>\n",
       "      <td>\"I'm not asking Microsoft to Gives permission ...</td>\n",
       "      <td>1</td>\n",
       "    </tr>\n",
       "    <tr>\n",
       "      <th>1</th>\n",
       "      <td>13121</td>\n",
       "      <td>\"somewhere between Android and iPhone.\"</td>\n",
       "      <td>1</td>\n",
       "    </tr>\n",
       "    <tr>\n",
       "      <th>2</th>\n",
       "      <td>13131</td>\n",
       "      <td>\"And in the Windows Store you can flag the App...</td>\n",
       "      <td>1</td>\n",
       "    </tr>\n",
       "    <tr>\n",
       "      <th>3</th>\n",
       "      <td>13132</td>\n",
       "      <td>\"Many thanks Sameh Hi, As we know, there is a ...</td>\n",
       "      <td>1</td>\n",
       "    </tr>\n",
       "    <tr>\n",
       "      <th>4</th>\n",
       "      <td>13133</td>\n",
       "      <td>\"The idea is that we can develop a regular app...</td>\n",
       "      <td>1</td>\n",
       "    </tr>\n",
       "  </tbody>\n",
       "</table>\n",
       "</div>"
      ],
      "text/plain": [
       "      id                                           sentence label\n",
       "0  13101  \"I'm not asking Microsoft to Gives permission ...     1\n",
       "1  13121            \"somewhere between Android and iPhone.\"     1\n",
       "2  13131  \"And in the Windows Store you can flag the App...     1\n",
       "3  13132  \"Many thanks Sameh Hi, As we know, there is a ...     1\n",
       "4  13133  \"The idea is that we can develop a regular app...     1"
      ]
     },
     "execution_count": 34,
     "metadata": {},
     "output_type": "execute_result"
    }
   ],
   "source": [
    "for index in range(test_data.shape[0]):\n",
    "    all_words = \" \".join(test_data.loc[[index]]['sentence']).split()\n",
    "    test_data.at[index, 'label'] = 0\n",
    "    for w in all_words:\n",
    "        if w in important_words:\n",
    "            test_data.at[index, 'label'] = 1\n",
    "test_data.head()"
   ]
  },
  {
   "cell_type": "code",
   "execution_count": 35,
   "metadata": {
    "collapsed": false
   },
   "outputs": [
    {
     "data": {
      "text/plain": [
       "317"
      ]
     },
     "execution_count": 35,
     "metadata": {},
     "output_type": "execute_result"
    }
   ],
   "source": [
    "correct_preds = [index for index in range(test_data.shape[0]) if test_data.at[index, 'label'] == test_data_labelled.at[index, 'label'] ]\n",
    "len(correct_preds)"
   ]
  },
  {
   "cell_type": "code",
   "execution_count": 37,
   "metadata": {
    "collapsed": false
   },
   "outputs": [
    {
     "data": {
      "text/plain": [
       "0.535472972972973"
      ]
     },
     "execution_count": 37,
     "metadata": {},
     "output_type": "execute_result"
    }
   ],
   "source": [
    "accuracy = len(correct_preds) / test_data.shape[0]\n",
    "accuracy"
   ]
  },
  {
   "cell_type": "markdown",
   "metadata": {},
   "source": [
    "#### Let's try some ML Classification algorithms, in hope of a better accuracy! :/"
   ]
  },
  {
   "cell_type": "code",
   "execution_count": 12,
   "metadata": {
    "collapsed": true
   },
   "outputs": [],
   "source": [
    "#importing Text Vectorizer and Tokenizer\n",
    "from sklearn.feature_extraction.text import CountVectorizer\n",
    "from sklearn.feature_extraction.text import TfidfVectorizer\n",
    "from nltk.tokenize import RegexpTokenizer\n",
    "\n",
    "#importing classifiers\n",
    "from sklearn.naive_bayes import MultinomialNB\n",
    "from sklearn.svm import SVC\n",
    "\n",
    "from sklearn.model_selection import train_test_split\n",
    "from sklearn import metrics"
   ]
  },
  {
   "cell_type": "code",
   "execution_count": 13,
   "metadata": {
    "collapsed": true
   },
   "outputs": [],
   "source": [
    "token = RegexpTokenizer(r'[a-zA-Z0-9]+')\n",
    "cv = CountVectorizer(lowercase=True,stop_words='english',ngram_range = (1,1),tokenizer = token.tokenize)\n",
    "tf=TfidfVectorizer(stop_words='english')"
   ]
  },
  {
   "cell_type": "code",
   "execution_count": 14,
   "metadata": {
    "collapsed": false
   },
   "outputs": [
    {
     "data": {
      "text/html": [
       "<div>\n",
       "<table border=\"1\" class=\"dataframe\">\n",
       "  <thead>\n",
       "    <tr style=\"text-align: right;\">\n",
       "      <th></th>\n",
       "      <th>id</th>\n",
       "      <th>sentence</th>\n",
       "      <th>label</th>\n",
       "    </tr>\n",
       "  </thead>\n",
       "  <tbody>\n",
       "    <tr>\n",
       "      <th>0</th>\n",
       "      <td>663_3</td>\n",
       "      <td>\"Please enable removing language code from the...</td>\n",
       "      <td>1</td>\n",
       "    </tr>\n",
       "    <tr>\n",
       "      <th>1</th>\n",
       "      <td>663_4</td>\n",
       "      <td>\"Note: in your .csproj file, there is a Suppor...</td>\n",
       "      <td>0</td>\n",
       "    </tr>\n",
       "    <tr>\n",
       "      <th>2</th>\n",
       "      <td>664_1</td>\n",
       "      <td>\"Wich means the new version not fully replaced...</td>\n",
       "      <td>0</td>\n",
       "    </tr>\n",
       "    <tr>\n",
       "      <th>3</th>\n",
       "      <td>664_2</td>\n",
       "      <td>\"Some of my users will still receive the old x...</td>\n",
       "      <td>0</td>\n",
       "    </tr>\n",
       "    <tr>\n",
       "      <th>4</th>\n",
       "      <td>664_3</td>\n",
       "      <td>\"The store randomly gives the old xap or the n...</td>\n",
       "      <td>0</td>\n",
       "    </tr>\n",
       "  </tbody>\n",
       "</table>\n",
       "</div>"
      ],
      "text/plain": [
       "      id                                           sentence  label\n",
       "0  663_3  \"Please enable removing language code from the...      1\n",
       "1  663_4  \"Note: in your .csproj file, there is a Suppor...      0\n",
       "2  664_1  \"Wich means the new version not fully replaced...      0\n",
       "3  664_2  \"Some of my users will still receive the old x...      0\n",
       "4  664_3  \"The store randomly gives the old xap or the n...      0"
      ]
     },
     "execution_count": 14,
     "metadata": {},
     "output_type": "execute_result"
    }
   ],
   "source": [
    "data=pd.read_csv('C:/Users/ParikanshAndAtikant/Desktop/WEB DEV/midasIIITD/NLP_Problem/v1.4_training.csv')\n",
    "data.head()"
   ]
  },
  {
   "cell_type": "markdown",
   "metadata": {},
   "source": [
    "### MultinomialNB using Count_Vectorizer and Tf_IDf_Vectorizer"
   ]
  },
  {
   "cell_type": "code",
   "execution_count": 16,
   "metadata": {
    "collapsed": false
   },
   "outputs": [
    {
     "data": {
      "text/plain": [
       "0.77"
      ]
     },
     "execution_count": 16,
     "metadata": {},
     "output_type": "execute_result"
    }
   ],
   "source": [
    "text_counts= cv.fit_transform(data['sentence'])\n",
    "X_train, X_test, y_train, y_test = train_test_split(text_counts, data['label'], test_size=0.2, random_state=1)\n",
    "clf = MultinomialNB().fit(X_train, y_train)\n",
    "predicted= clf.predict(X_test)\n",
    "metrics.accuracy_score(y_test, predicted)"
   ]
  },
  {
   "cell_type": "code",
   "execution_count": 17,
   "metadata": {
    "collapsed": false
   },
   "outputs": [
    {
     "name": "stderr",
     "output_type": "stream",
     "text": [
      "C:\\Users\\ParikanshAndAtikant\\Anaconda3\\lib\\site-packages\\sklearn\\feature_extraction\\text.py:1059: FutureWarning: Conversion of the second argument of issubdtype from `float` to `np.floating` is deprecated. In future, it will be treated as `np.float64 == np.dtype(float).type`.\n",
      "  if hasattr(X, 'dtype') and np.issubdtype(X.dtype, np.float):\n"
     ]
    },
    {
     "data": {
      "text/plain": [
       "0.7541176470588236"
      ]
     },
     "execution_count": 17,
     "metadata": {},
     "output_type": "execute_result"
    }
   ],
   "source": [
    "text_tf= tf.fit_transform(data['sentence'])\n",
    "X_train, X_test, y_train, y_test = train_test_split(text_tf, data['label'], test_size=0.2, random_state=12)\n",
    "clf = MultinomialNB().fit(X_train, y_train)\n",
    "predicted = clf.predict(X_test)\n",
    "metrics.accuracy_score(y_test, predicted)"
   ]
  },
  {
   "cell_type": "markdown",
   "metadata": {},
   "source": [
    "#### Achieved better with Naive Bayes"
   ]
  },
  {
   "cell_type": "markdown",
   "metadata": {},
   "source": [
    "### SVC using Count_Vectorizer and Tf_IDf_Vectorizer"
   ]
  },
  {
   "cell_type": "code",
   "execution_count": 18,
   "metadata": {
    "collapsed": false
   },
   "outputs": [
    {
     "data": {
      "text/plain": [
       "0.7382352941176471"
      ]
     },
     "execution_count": 18,
     "metadata": {},
     "output_type": "execute_result"
    }
   ],
   "source": [
    "text_counts= cv.fit_transform(data['sentence'])\n",
    "X_train, X_test, y_train, y_test = train_test_split(text_counts, data['label'], test_size=0.2, random_state=19)\n",
    "clf = SVC(kernel='rbf', random_state=0).fit(X_train, y_train)\n",
    "predicted= clf.predict(X_test)\n",
    "metrics.accuracy_score(y_test, predicted)"
   ]
  },
  {
   "cell_type": "code",
   "execution_count": 19,
   "metadata": {
    "collapsed": false
   },
   "outputs": [
    {
     "name": "stderr",
     "output_type": "stream",
     "text": [
      "C:\\Users\\ParikanshAndAtikant\\Anaconda3\\lib\\site-packages\\sklearn\\feature_extraction\\text.py:1059: FutureWarning: Conversion of the second argument of issubdtype from `float` to `np.floating` is deprecated. In future, it will be treated as `np.float64 == np.dtype(float).type`.\n",
      "  if hasattr(X, 'dtype') and np.issubdtype(X.dtype, np.float):\n"
     ]
    },
    {
     "data": {
      "text/plain": [
       "0.7541176470588236"
      ]
     },
     "execution_count": 19,
     "metadata": {},
     "output_type": "execute_result"
    }
   ],
   "source": [
    "text_tf= tf.fit_transform(data['sentence'])\n",
    "X_train, X_test, y_train, y_test = train_test_split(text_tf, data['label'], test_size=0.3, random_state=12)\n",
    "clf = SVC(kernel='rbf', random_state=0).fit(X_train, y_train)\n",
    "predicted = clf.predict(X_test)\n",
    "metrics.accuracy_score(y_test, predicted)"
   ]
  },
  {
   "cell_type": "markdown",
   "metadata": {},
   "source": [
    "#### SVC is not able to classify at all"
   ]
  },
  {
   "cell_type": "code",
   "execution_count": 145,
   "metadata": {
    "collapsed": false
   },
   "outputs": [
    {
     "data": {
      "text/html": [
       "<div>\n",
       "<table border=\"1\" class=\"dataframe\">\n",
       "  <thead>\n",
       "    <tr style=\"text-align: right;\">\n",
       "      <th></th>\n",
       "      <th>id</th>\n",
       "      <th>sentence</th>\n",
       "      <th>label</th>\n",
       "    </tr>\n",
       "  </thead>\n",
       "  <tbody>\n",
       "    <tr>\n",
       "      <th>0</th>\n",
       "      <td>9566</td>\n",
       "      <td>This would enable live traffic aware apps.</td>\n",
       "      <td>X</td>\n",
       "    </tr>\n",
       "    <tr>\n",
       "      <th>1</th>\n",
       "      <td>9569</td>\n",
       "      <td>Please try other formatting like bold italics ...</td>\n",
       "      <td>X</td>\n",
       "    </tr>\n",
       "    <tr>\n",
       "      <th>2</th>\n",
       "      <td>9576</td>\n",
       "      <td>Since computers were invented to save time I s...</td>\n",
       "      <td>X</td>\n",
       "    </tr>\n",
       "    <tr>\n",
       "      <th>3</th>\n",
       "      <td>9577</td>\n",
       "      <td>Allow rearranging if the user wants to change ...</td>\n",
       "      <td>X</td>\n",
       "    </tr>\n",
       "    <tr>\n",
       "      <th>4</th>\n",
       "      <td>9579</td>\n",
       "      <td>Add SIMD instructions for better use of ARM NE...</td>\n",
       "      <td>X</td>\n",
       "    </tr>\n",
       "  </tbody>\n",
       "</table>\n",
       "</div>"
      ],
      "text/plain": [
       "     id                                           sentence label\n",
       "0  9566         This would enable live traffic aware apps.     X\n",
       "1  9569  Please try other formatting like bold italics ...     X\n",
       "2  9576  Since computers were invented to save time I s...     X\n",
       "3  9577  Allow rearranging if the user wants to change ...     X\n",
       "4  9579  Add SIMD instructions for better use of ARM NE...     X"
      ]
     },
     "execution_count": 145,
     "metadata": {},
     "output_type": "execute_result"
    }
   ],
   "source": [
    "data=pd.read_csv('C:/Users/ParikanshAndAtikant/Desktop/WEB DEV/midasIIITD/NLP_Problem/labelledTrainData.csv')\n",
    "evaluation_data = pd.read_csv('C:/Users/ParikanshAndAtikant/Desktop/WEB DEV/midasIIITD/NLP_Problem/evaluation_data_A.csv')\n",
    "evaluation_data.head()"
   ]
  },
  {
   "cell_type": "code",
   "execution_count": 146,
   "metadata": {
    "collapsed": false
   },
   "outputs": [
    {
     "name": "stderr",
     "output_type": "stream",
     "text": [
      "C:\\Users\\ParikanshAndAtikant\\Anaconda3\\lib\\site-packages\\sklearn\\feature_extraction\\text.py:1059: FutureWarning: Conversion of the second argument of issubdtype from `float` to `np.floating` is deprecated. In future, it will be treated as `np.float64 == np.dtype(float).type`.\n",
      "  if hasattr(X, 'dtype') and np.issubdtype(X.dtype, np.float):\n"
     ]
    },
    {
     "data": {
      "text/html": [
       "<div>\n",
       "<table border=\"1\" class=\"dataframe\">\n",
       "  <thead>\n",
       "    <tr style=\"text-align: right;\">\n",
       "      <th></th>\n",
       "      <th>id</th>\n",
       "      <th>sentence</th>\n",
       "      <th>label</th>\n",
       "    </tr>\n",
       "  </thead>\n",
       "  <tbody>\n",
       "    <tr>\n",
       "      <th>0</th>\n",
       "      <td>9566</td>\n",
       "      <td>This would enable live traffic aware apps.</td>\n",
       "      <td>0</td>\n",
       "    </tr>\n",
       "    <tr>\n",
       "      <th>1</th>\n",
       "      <td>9569</td>\n",
       "      <td>Please try other formatting like bold italics ...</td>\n",
       "      <td>0</td>\n",
       "    </tr>\n",
       "    <tr>\n",
       "      <th>2</th>\n",
       "      <td>9576</td>\n",
       "      <td>Since computers were invented to save time I s...</td>\n",
       "      <td>0</td>\n",
       "    </tr>\n",
       "    <tr>\n",
       "      <th>3</th>\n",
       "      <td>9577</td>\n",
       "      <td>Allow rearranging if the user wants to change ...</td>\n",
       "      <td>1</td>\n",
       "    </tr>\n",
       "    <tr>\n",
       "      <th>4</th>\n",
       "      <td>9579</td>\n",
       "      <td>Add SIMD instructions for better use of ARM NE...</td>\n",
       "      <td>1</td>\n",
       "    </tr>\n",
       "  </tbody>\n",
       "</table>\n",
       "</div>"
      ],
      "text/plain": [
       "     id                                           sentence label\n",
       "0  9566         This would enable live traffic aware apps.     0\n",
       "1  9569  Please try other formatting like bold italics ...     0\n",
       "2  9576  Since computers were invented to save time I s...     0\n",
       "3  9577  Allow rearranging if the user wants to change ...     1\n",
       "4  9579  Add SIMD instructions for better use of ARM NE...     1"
      ]
     },
     "execution_count": 146,
     "metadata": {},
     "output_type": "execute_result"
    }
   ],
   "source": [
    "trainigDataTranformedFitted = tf.fit_transform(data['sentence'])\n",
    "\n",
    "clf = MultinomialNB()\n",
    "clf.fit(trainigDataTranformedFitted, data['label'])\n",
    "\n",
    "testData = tf.transform(evaluation_data['sentence'])\n",
    "predicted = clf.predict(testData)\n",
    "\n",
    "#print(len(predicted), evaluation_data.shape)\n",
    "\n",
    "for index in range(evaluation_data.shape[0]):\n",
    "    evaluation_data.at[index, 'label'] = predicted[index]\n",
    "    \n",
    "evaluation_data.head()"
   ]
  },
  {
   "cell_type": "code",
   "execution_count": 148,
   "metadata": {
    "collapsed": false
   },
   "outputs": [],
   "source": [
    "evaluation_data.to_csv('C:/Users/ParikanshAndAtikant/Desktop/WEB DEV/midasIIITD/NLP_Problem/evaluation_data_A_labelled.csv', sep=',')"
   ]
  },
  {
   "cell_type": "code",
   "execution_count": null,
   "metadata": {
    "collapsed": true
   },
   "outputs": [],
   "source": []
  }
 ],
 "metadata": {
  "kernelspec": {
   "display_name": "Python 3",
   "language": "python",
   "name": "python3"
  },
  "language_info": {
   "codemirror_mode": {
    "name": "ipython",
    "version": 3
   },
   "file_extension": ".py",
   "mimetype": "text/x-python",
   "name": "python",
   "nbconvert_exporter": "python",
   "pygments_lexer": "ipython3",
   "version": "3.6.0"
  }
 },
 "nbformat": 4,
 "nbformat_minor": 2
}
